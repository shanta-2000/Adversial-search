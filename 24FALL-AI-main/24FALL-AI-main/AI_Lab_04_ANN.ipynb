{
  "cells": [
    {
      "cell_type": "markdown",
      "metadata": {
        "id": "view-in-github",
        "colab_type": "text"
      },
      "source": [
        "<a href=\"https://colab.research.google.com/github/raihanewubd/24FALL-AI/blob/main/AI_Lab_4_ANN.ipynb\" target=\"_parent\"><img src=\"https://colab.research.google.com/assets/colab-badge.svg\" alt=\"Open In Colab\"/></a>"
      ]
    },
    {
      "cell_type": "markdown",
      "source": [
        "# **Implementation of Artificila Neural Network (ANN)**\n",
        "Implemented by Al Hossain\n",
        "---\n",
        "\n"
      ],
      "metadata": {
        "id": "MP8izRZphBw6"
      },
      "id": "MP8izRZphBw6"
    },
    {
      "cell_type": "markdown",
      "id": "0060a51e",
      "metadata": {
        "id": "0060a51e"
      },
      "source": [
        "> Diabetes Dataset Link: https://www.kaggle.com/datasets/uciml/pima-indians-diabetes-database\n"
      ]
    },
    {
      "cell_type": "code",
      "source": [
        "from google.colab import drive\n",
        "drive.mount('/content/drive')"
      ],
      "metadata": {
        "id": "6T40UzwTlU5Q"
      },
      "id": "6T40UzwTlU5Q",
      "execution_count": null,
      "outputs": []
    },
    {
      "cell_type": "markdown",
      "source": [
        "### Import Libraries"
      ],
      "metadata": {
        "id": "47nNEC-IhfQ5"
      },
      "id": "47nNEC-IhfQ5"
    },
    {
      "cell_type": "code",
      "execution_count": null,
      "id": "69bbe087",
      "metadata": {
        "id": "69bbe087"
      },
      "outputs": [],
      "source": [
        "import pandas as pd\n",
        "import numpy as np\n",
        "import matplotlib.pyplot as plt\n",
        "import seaborn as sns\n",
        "from sklearn.model_selection import train_test_split\n",
        "from sklearn.metrics import classification_report, confusion_matrix\n",
        "from sklearn.neural_network import MLPClassifier\n",
        "import torch\n",
        "import torch.nn as nn\n",
        "import torch.nn.functional as F\n",
        "import torch.optim as optim\n",
        "from sklearn.metrics import accuracy_score\n",
        "from tqdm import tqdm"
      ]
    },
    {
      "cell_type": "markdown",
      "source": [
        "### Load Dataset"
      ],
      "metadata": {
        "id": "5gdcu7Jmhr5y"
      },
      "id": "5gdcu7Jmhr5y"
    },
    {
      "cell_type": "code",
      "execution_count": null,
      "id": "db161a56",
      "metadata": {
        "id": "db161a56"
      },
      "outputs": [],
      "source": [
        "df = pd.read_csv('/content/drive/MyDrive/Colab Notebooks/ANN/diabetes.csv')"
      ]
    },
    {
      "cell_type": "code",
      "execution_count": null,
      "id": "aa020266",
      "metadata": {
        "id": "aa020266"
      },
      "outputs": [],
      "source": [
        "df.head()"
      ]
    },
    {
      "cell_type": "code",
      "source": [
        "df.tail()"
      ],
      "metadata": {
        "id": "Nnc4LBnQh010"
      },
      "id": "Nnc4LBnQh010",
      "execution_count": null,
      "outputs": []
    },
    {
      "cell_type": "code",
      "source": [
        "df.shape"
      ],
      "metadata": {
        "id": "nUBO5j7YlqeI"
      },
      "id": "nUBO5j7YlqeI",
      "execution_count": null,
      "outputs": []
    },
    {
      "cell_type": "code",
      "source": [
        "class_counts = df['Outcome'].value_counts()\n",
        "print(class_counts)"
      ],
      "metadata": {
        "id": "QU7-VLMxr58E"
      },
      "id": "QU7-VLMxr58E",
      "execution_count": null,
      "outputs": []
    },
    {
      "cell_type": "code",
      "source": [
        "df.describe()"
      ],
      "metadata": {
        "id": "Tzz2t0ZFmCh8"
      },
      "id": "Tzz2t0ZFmCh8",
      "execution_count": null,
      "outputs": []
    },
    {
      "cell_type": "code",
      "source": [
        "print(\"Null values in each column:\")\n",
        "print(df.isnull().sum())"
      ],
      "metadata": {
        "id": "xSMAYKDrl-rS"
      },
      "id": "xSMAYKDrl-rS",
      "execution_count": null,
      "outputs": []
    },
    {
      "cell_type": "code",
      "source": [
        "df_cleaned = df.dropna()\n",
        "print(\"Null values after cleaning:\")\n",
        "print(df_cleaned.isnull().sum())"
      ],
      "metadata": {
        "id": "LgFjOdJRmNdS"
      },
      "id": "LgFjOdJRmNdS",
      "execution_count": null,
      "outputs": []
    },
    {
      "cell_type": "markdown",
      "source": [
        "### Split the Dataset into Features and Labels\n",
        "\n",
        "\n",
        "*   **Features:** (Independent variables) These are the input characteristics or attributes of the data points.\n",
        "*   **Labels:** (Dependent Variables) These are the outcomes or target variables that we want to predict.\n",
        "\n"
      ],
      "metadata": {
        "id": "12CmuYTYh7vD"
      },
      "id": "12CmuYTYh7vD"
    },
    {
      "cell_type": "code",
      "execution_count": null,
      "id": "c1df7678",
      "metadata": {
        "id": "c1df7678"
      },
      "outputs": [],
      "source": [
        "X = df.drop('Outcome', axis=1).values\n",
        "y = df['Outcome'].values"
      ]
    },
    {
      "cell_type": "code",
      "source": [
        "print(X.shape)\n",
        "print(y.shape)"
      ],
      "metadata": {
        "id": "7-_AvknIwxIH"
      },
      "id": "7-_AvknIwxIH",
      "execution_count": null,
      "outputs": []
    },
    {
      "cell_type": "markdown",
      "source": [
        "### Split the Dataset into Training and Testing Sets\n",
        "\n",
        "*   **Training Set:** Used to teach the model the underlying patterns and relationships within the data.\n",
        "*   **Test Set:** Evaluates the model's performance on data it hasn't seen before.\n",
        "\n"
      ],
      "metadata": {
        "id": "kTCmAiFXjdlR"
      },
      "id": "kTCmAiFXjdlR"
    },
    {
      "cell_type": "code",
      "execution_count": null,
      "id": "8313ed27",
      "metadata": {
        "id": "8313ed27"
      },
      "outputs": [],
      "source": [
        "X_train, X_test, y_train, y_test = train_test_split(X, y, test_size=0.2, random_state=42)"
      ]
    },
    {
      "cell_type": "code",
      "source": [
        "print(len(X_train))\n",
        "print(len(X_test))"
      ],
      "metadata": {
        "id": "ebQnLUmYRUH2"
      },
      "id": "ebQnLUmYRUH2",
      "execution_count": null,
      "outputs": []
    },
    {
      "cell_type": "code",
      "source": [
        "sizes = [len(X_train), len(X_test)]\n",
        "labels = ['Training Set', 'Test Set']\n",
        "\n",
        "plt.figure(figsize=(5, 5))\n",
        "plt.pie(sizes, labels=labels, autopct='%1.1f%%', startangle=140)\n",
        "plt.title('Distribution of Training and Test Data')\n",
        "plt.show()"
      ],
      "metadata": {
        "id": "eIjd1_I_ROKW"
      },
      "id": "eIjd1_I_ROKW",
      "execution_count": null,
      "outputs": []
    },
    {
      "cell_type": "markdown",
      "source": [
        "### ANN Model Design and Implementation"
      ],
      "metadata": {
        "id": "NnVt-4pTkIEB"
      },
      "id": "NnVt-4pTkIEB"
    },
    {
      "cell_type": "code",
      "source": [
        "# Convert to tensor object\n",
        "X_train = torch.FloatTensor(X_train)\n",
        "X_test = torch.FloatTensor(X_test)\n",
        "y_train = torch.LongTensor(y_train)\n",
        "y_test = torch.LongTensor(y_test)"
      ],
      "metadata": {
        "id": "gnpJJo5XzDYo"
      },
      "id": "gnpJJo5XzDYo",
      "execution_count": null,
      "outputs": []
    },
    {
      "cell_type": "code",
      "source": [
        "class ANN_model(nn.Module):\n",
        "    # For ANN we will require input layer, hidden layer and output layer\n",
        "    def __init__(self, input_features=8, hidden1=20, hidden2=20, out_features=2):\n",
        "        # Inherit parent class i.e.nn.Module\n",
        "        super().__init__()\n",
        "        self.f_connected1=nn.Linear(input_features,hidden1)\n",
        "        self.f_connected2=nn.Linear(hidden1, hidden2)\n",
        "        self.out=nn.Linear(hidden2,out_features)\n",
        "    # x will track the gradient descent and all the propogation\n",
        "    def forward(self,x):\n",
        "        # F we have all the activation functions\n",
        "        x=F.relu(self.f_connected1(x))\n",
        "        x=F.relu(self.f_connected2(x))\n",
        "        x=self.out(x)\n",
        "        return x"
      ],
      "metadata": {
        "id": "Xpv-9Dbi1qpB"
      },
      "id": "Xpv-9Dbi1qpB",
      "execution_count": null,
      "outputs": []
    },
    {
      "cell_type": "code",
      "source": [
        "model = ANN_model()"
      ],
      "metadata": {
        "id": "FSwkiZPK1t6W"
      },
      "id": "FSwkiZPK1t6W",
      "execution_count": null,
      "outputs": []
    },
    {
      "cell_type": "code",
      "source": [
        "print(model.parameters)"
      ],
      "metadata": {
        "id": "vod50BQZ11Dv"
      },
      "id": "vod50BQZ11Dv",
      "execution_count": null,
      "outputs": []
    },
    {
      "cell_type": "markdown",
      "source": [
        "### Model Training"
      ],
      "metadata": {
        "id": "2nAls1ctUOQw"
      },
      "id": "2nAls1ctUOQw"
    },
    {
      "cell_type": "code",
      "source": [
        "loss_function=nn.CrossEntropyLoss()\n",
        "optimizer=torch.optim.Adam(model.parameters(),lr=0.0001)"
      ],
      "metadata": {
        "id": "HnSPIn491_sj"
      },
      "id": "HnSPIn491_sj",
      "execution_count": null,
      "outputs": []
    },
    {
      "cell_type": "code",
      "source": [
        "def train_model(model, X_train, y_train, epochs=10):\n",
        "    loss_values = []\n",
        "\n",
        "    for epoch in tqdm(range(epochs), desc='Training Epochs'):\n",
        "        model.train()\n",
        "\n",
        "        # Forward pass\n",
        "        y_pred = model(X_train)\n",
        "\n",
        "        # Compute loss\n",
        "        loss = loss_function(y_pred, y_train)\n",
        "\n",
        "        # Backward pass\n",
        "        optimizer.zero_grad()\n",
        "        loss.backward()\n",
        "        optimizer.step()\n",
        "\n",
        "        loss_values.append(loss.item())\n",
        "\n",
        "        if (epoch + 1) == 0:\n",
        "            print(f'Epoch [{epoch + 1}/{epochs}], Loss: {loss.item():.4f}')\n",
        "\n",
        "    return loss_values\n",
        "\n",
        "loss_values = train_model(model, X_train, y_train, epochs=1000)"
      ],
      "metadata": {
        "id": "bpPY7iJ23Cgw"
      },
      "id": "bpPY7iJ23Cgw",
      "execution_count": null,
      "outputs": []
    },
    {
      "cell_type": "code",
      "source": [
        "plt.figure(figsize=(8, 5))\n",
        "plt.plot(range(1, len(loss_values) + 1), loss_values, label='Training Loss')\n",
        "plt.xlabel('Epochs')\n",
        "plt.ylabel('Loss')\n",
        "plt.title('Loss Curve')\n",
        "plt.legend()\n",
        "plt.show()"
      ],
      "metadata": {
        "id": "WHrUAU3NSUGd"
      },
      "id": "WHrUAU3NSUGd",
      "execution_count": null,
      "outputs": []
    },
    {
      "cell_type": "markdown",
      "source": [
        "### Model Evaluation"
      ],
      "metadata": {
        "id": "2harQYouT-uY"
      },
      "id": "2harQYouT-uY"
    },
    {
      "cell_type": "code",
      "source": [
        "def evaluate_model_with_class_accuracy(model, X_test, y_test):\n",
        "    model.eval()\n",
        "    with torch.no_grad():\n",
        "        y_pred = model(X_test)\n",
        "\n",
        "        # Get predicted class labels\n",
        "        _, predicted = torch.max(y_pred, 1)\n",
        "\n",
        "        # Calculate overall accuracy\n",
        "        accuracy = accuracy_score(y_test.numpy(), predicted.numpy())\n",
        "        print(f'Overall Accuracy: {accuracy:.4f}')\n",
        "\n",
        "        # Generate and print classification report\n",
        "        report = classification_report(y_test.numpy(), predicted.numpy(), target_names=class_names)\n",
        "        print(\"\\nClassification Report:\\n\", report)\n",
        "\n",
        "        # Calculate per-class accuracy\n",
        "        for i, class_name in enumerate(class_names):\n",
        "            class_accuracy = accuracy_score(y_test.numpy()[y_test.numpy() == i], predicted.numpy()[y_test.numpy() == i])\n",
        "            print(f'Accuracy for {class_name}: {class_accuracy:.4f}')\n",
        "\n",
        "class_names = ['0', '1']\n",
        "evaluate_model_with_class_accuracy(model, X_test, y_test)"
      ],
      "metadata": {
        "id": "uOQI1L20TQsp"
      },
      "id": "uOQI1L20TQsp",
      "execution_count": null,
      "outputs": []
    },
    {
      "cell_type": "markdown",
      "source": [
        "### Confusion Matrix"
      ],
      "metadata": {
        "id": "QYOW44PLk05L"
      },
      "id": "QYOW44PLk05L"
    },
    {
      "cell_type": "code",
      "source": [
        "def plot_confusion_matrix(y_true, y_pred, class_names):\n",
        "    cm = confusion_matrix(y_true, y_pred)\n",
        "\n",
        "    plt.figure(figsize=(6, 4))\n",
        "    sns.heatmap(cm, annot=True, fmt='d', cmap='Blues', xticklabels=class_names, yticklabels=class_names)\n",
        "    plt.xlabel('Predicted Label')\n",
        "    plt.ylabel('True Label')\n",
        "    plt.title('Confusion Matrix')\n",
        "    plt.show()\n",
        "\n",
        "y_pred = model(X_test).argmax(dim=1).numpy()\n",
        "plot_confusion_matrix(y_test.numpy(), y_pred, class_names)"
      ],
      "metadata": {
        "id": "Cv5P5hBm4UB0"
      },
      "id": "Cv5P5hBm4UB0",
      "execution_count": null,
      "outputs": []
    }
  ],
  "metadata": {
    "kernelspec": {
      "display_name": "Python 3 (ipykernel)",
      "language": "python",
      "name": "python3"
    },
    "language_info": {
      "codemirror_mode": {
        "name": "ipython",
        "version": 3
      },
      "file_extension": ".py",
      "mimetype": "text/x-python",
      "name": "python",
      "nbconvert_exporter": "python",
      "pygments_lexer": "ipython3",
      "version": "3.10.8"
    },
    "colab": {
      "provenance": [],
      "include_colab_link": true
    }
  },
  "nbformat": 4,
  "nbformat_minor": 5
}